{
 "cells": [
  {
   "cell_type": "markdown",
   "id": "ebb39bda-a85b-4423-9017-cfac1fb87b7a",
   "metadata": {},
   "source": [
    "# Assignment 3 : 3D Gaussian Splatting and Diffusion Guided Optimization\n",
    "\n",
    "#### Submitted by: Shahram Najam Syed\n",
    "#### Andrew-ID: snsyed\n",
    "#### Date: 26th March, 2025\n",
    "#### Late days used: 0"
   ]
  },
  {
   "cell_type": "markdown",
   "id": "0ca54213-c4dd-4e71-a666-bb1d25f9479b",
   "metadata": {},
   "source": [
    "## 1. 3D Gaussian Splatting"
   ]
  },
  {
   "cell_type": "markdown",
   "id": "96296f6c-22c7-4b9d-8c7c-3773a0b45976",
   "metadata": {},
   "source": [
    "### 1.1 3D Gaussian Rasterization (35 points)"
   ]
  },
  {
   "cell_type": "markdown",
   "id": "705a2be1-2706-4490-bbf1-e390ff7fb57a",
   "metadata": {},
   "source": [
    "#### 1.1.1 Project 3D Gaussians to Obtain 2D Gaussians"
   ]
  },
  {
   "cell_type": "markdown",
   "id": "f82589be-6c43-4f7f-82da-5d25d46fa561",
   "metadata": {},
   "source": [
    "Implemented the following functions in the Gaussians class:\n",
    "\n",
    "* compute_cov_3D\n",
    "* compute_cov_2D\n",
    "* compute_means_2D"
   ]
  },
  {
   "cell_type": "markdown",
   "id": "5de9fbc0-bd78-4465-b4c6-1d36943fdef2",
   "metadata": {},
   "source": [
    "---"
   ]
  },
  {
   "cell_type": "markdown",
   "id": "33804d3c-5aa4-4147-be6f-08c4ba821b93",
   "metadata": {},
   "source": [
    "#### 1.1.2 Evaluate 2D Gaussians"
   ]
  },
  {
   "cell_type": "markdown",
   "id": "75f932f7-3f90-4ed7-ae64-de07d6b08695",
   "metadata": {},
   "source": [
    "Implemented the following functions in the Gaussians class:\n",
    "* evaluate_gaussian_2D\n",
    "\n",
    "Ran **python unit_test_gaussians.py** and following is the result:\n",
    "\n",
    "<img src='output/q1_1_2.png'/>"
   ]
  },
  {
   "cell_type": "markdown",
   "id": "192085c8-6fde-49fc-8895-0ef46149d604",
   "metadata": {},
   "source": [
    "---"
   ]
  },
  {
   "cell_type": "markdown",
   "id": "35c5715e-3be4-4deb-ba98-6d68ade93cd8",
   "metadata": {},
   "source": [
    "#### 1.1.3 Filter and Sort Gaussian"
   ]
  },
  {
   "cell_type": "markdown",
   "id": "7bb258cd-961b-4691-92e1-2200d60b554a",
   "metadata": {},
   "source": [
    "Implemented the following functions in **Scene** class in **model.py**:\n",
    "\n",
    "* compute_depth_values\n",
    "* get_idxs_to_filter_and_sort"
   ]
  },
  {
   "cell_type": "markdown",
   "id": "21590959-cbe9-45d5-89ca-8ab23bf3e3f7",
   "metadata": {},
   "source": [
    "---"
   ]
  },
  {
   "cell_type": "markdown",
   "id": "92184953-2e1a-4ef1-8a7c-0185f98bc52a",
   "metadata": {},
   "source": [
    "#### 1.1.4 Compute Alphas and Transmittance"
   ]
  },
  {
   "cell_type": "markdown",
   "id": "1b60f4f5-710c-4b59-814e-5bdb2f439dff",
   "metadata": {},
   "source": [
    "Implemented the following functions in **Scene** class in **model.py**:\n",
    "\n",
    "* compute_alphas\n",
    "* compute_transmittance"
   ]
  },
  {
   "cell_type": "markdown",
   "id": "ac8ab821-7000-4831-b51f-2945c6549855",
   "metadata": {},
   "source": [
    "---"
   ]
  },
  {
   "cell_type": "markdown",
   "id": "8d34b1fe-3590-498a-b6f6-8a6c51cd515c",
   "metadata": {},
   "source": [
    "#### 1.1.5 Perform Splatting"
   ]
  },
  {
   "cell_type": "markdown",
   "id": "6eaaf11f-bbbe-4f35-baed-c0ddb156c636",
   "metadata": {},
   "source": [
    "Implemented the following function in **Scene** class in **model.py**:\n",
    "* splat\n",
    "\n",
    "Implemented the following function in **render.py**:\n",
    "* create_renders"
   ]
  },
  {
   "cell_type": "markdown",
   "id": "9d6315af-07f4-4d81-a116-6d0126c78b64",
   "metadata": {},
   "source": [
    "<center><b>Render output</b></center>\n",
    "<center><img src=\"./output/q1_1_render.gif\"></center>"
   ]
  },
  {
   "cell_type": "markdown",
   "id": "2290ee7a-3a3d-4532-984f-02ddbd63a7ce",
   "metadata": {},
   "source": [
    "---"
   ]
  },
  {
   "cell_type": "markdown",
   "id": "bf99c4c8-f655-4c43-af56-bb23f04b11de",
   "metadata": {},
   "source": [
    "### 1.2 Training 3D Gaussian Representations (15 points)"
   ]
  },
  {
   "cell_type": "markdown",
   "id": "5b9af6b2-1d46-41ed-bd12-6614d22fa985",
   "metadata": {},
   "source": [
    "#### 1.2.1 Setting Up Parameters and Optimizer"
   ]
  },
  {
   "cell_type": "markdown",
   "id": "8bad0917-e5f5-4ace-89ca-6f5816860e43",
   "metadata": {},
   "source": [
    "I started off by setting **requires_grad** as **True** the following in the **make_trainable** function in the **train.py**:\n",
    "\n",
    "* gaussians.means\n",
    "* gaussians.pre_act_scales\n",
    "* gaussians.colours\n",
    "* gaussians.pre_act_opacities\n",
    "\n",
    "And then completed the **setup_optimizer** function in **train.py**."
   ]
  },
  {
   "cell_type": "markdown",
   "id": "e0aa2f04-1e3c-4197-b51e-324aaa5854be",
   "metadata": {},
   "source": [
    "---"
   ]
  },
  {
   "cell_type": "markdown",
   "id": "0ac7a57b-9a04-44f4-b6a3-008e0b631bcd",
   "metadata": {},
   "source": [
    "#### 1.2.2 Perform Forward Pass and Compute Loss"
   ]
  },
  {
   "cell_type": "markdown",
   "id": "05dec5dd-1afa-42fe-9454-29104d9dca5a",
   "metadata": {},
   "source": [
    "Implemented the **run_training.py** function in **train.py**."
   ]
  },
  {
   "cell_type": "markdown",
   "id": "6bbbb109-50c0-4f65-b1c4-739a60552a98",
   "metadata": {},
   "source": [
    "The learning rates I used for each of the parameter are:\n",
    "\n",
    "* gaussians.pre_act_opacities = 0.001\n",
    "* gaussians.pre_act_scales = 0.001\n",
    "* gaussians.colours = 0.002\n",
    "* gaussians.means = 0.0001"
   ]
  },
  {
   "cell_type": "markdown",
   "id": "7aa4b4b7-6d29-4594-9754-d67baa11ec2e",
   "metadata": {},
   "source": [
    "I fine-tuned the learning rates for 1000 iterations first, and then ran the experiment two more times with increasing number of iterations.\n",
    "\n",
    "* Experiment # 1 (learning rate fine-tuning): 1000 iterations\n",
    "* Experiment # 2: 2500 iterations\n",
    "* Experiment # 3 (best PSNR and SSIM): 5000 iterations"
   ]
  },
  {
   "cell_type": "markdown",
   "id": "40296c8f-2b22-48c5-8e50-022f1f506d6e",
   "metadata": {},
   "source": [
    "<table border=\"1\">\n",
    "  <thead>\n",
    "    <tr>\n",
    "      <th>Iterations</th>\n",
    "      <th>Mean PSNR</th>\n",
    "      <th>Mean SSIM</th>\n",
    "    </tr>\n",
    "  </thead>\n",
    "  <tbody>\n",
    "    <tr>\n",
    "      <td>1000</td>\n",
    "      <td>27.046</td>\n",
    "      <td>0.908</td>\n",
    "    </tr>\n",
    "    <tr>\n",
    "      <td>2500</td>\n",
    "      <td>28.392</td>\n",
    "      <td>0.911</td>\n",
    "    </tr>\n",
    "    <tr>\n",
    "      <td>5000</td>\n",
    "      <td>29.021</td>\n",
    "      <td>0.965</td>\n",
    "    </tr>\n",
    "  </tbody>\n",
    "</table>"
   ]
  },
  {
   "cell_type": "markdown",
   "id": "1aca1437-13f0-43d4-bb75-fa3d7aa182e8",
   "metadata": {},
   "source": [
    "<center><b>Final Render output</b></center>\n",
    "<center><img src='./output/q1_2_training_final_renders.gif'></center>"
   ]
  },
  {
   "cell_type": "markdown",
   "id": "99a64eba-7ef2-40e4-87f2-622033d43e1c",
   "metadata": {},
   "source": [
    "<center><b>Training Progress Output</b></center>\n",
    "<center><img src='./output/q1_2_training_progress.gif'></center>"
   ]
  },
  {
   "cell_type": "markdown",
   "id": "7145683b-a153-4a86-8b1a-a5367704c7cc",
   "metadata": {},
   "source": [
    "---"
   ]
  },
  {
   "cell_type": "markdown",
   "id": "855de74c-0273-4a05-8e6f-7354264d1711",
   "metadata": {},
   "source": [
    "### 1.3 Extensions (Choose at least one! More than one is extra credit)"
   ]
  },
  {
   "cell_type": "markdown",
   "id": "4cc0715f-55bb-449f-9ccc-165b4798bf35",
   "metadata": {},
   "source": [
    "#### 1.3.1 Rendering Using Spherical Harmonics (10 Points)"
   ]
  },
  {
   "cell_type": "markdown",
   "id": "69884ed3-cec2-49ca-9791-414eeb6d2730",
   "metadata": {},
   "source": [
    "<center><b>Render without Spherical Harmonics</b></center>\n",
    "<center><img src='./output/q1_1_render.gif'></center>\n",
    "\n",
    "<center><b>Render with Spherical Harmonics</b></center>\n",
    "<center><img src='./output/q1_3_1_render.gif'></center>"
   ]
  },
  {
   "cell_type": "markdown",
   "id": "c9fa9a7c-d9d4-483d-9274-980cb05d21b4",
   "metadata": {},
   "source": [
    "<table>\n",
    "<tr>\n",
    "<th>Frame #</th>\n",
    "<th>w/o Spherical Harmonics</th>\n",
    "<th>w/ Spherical Harmonics</th>\n",
    "<th>Observation/Comment</th>\n",
    "</tr>\n",
    "<tr>\n",
    "<td>Frame # 000</td>\n",
    "<td><img src=\"./output/q1_1_render/000.png\"></td>\n",
    "<td><img src=\"./output/q1_3_1_render/000.png\"></td>\n",
    "<td>The output with the spherical harmonic implemented has more nuanced coloring and shadows, as can be clearly seen on the green coushion where shadows from the arm rests are prominent and the golden treading is more pronouced with vibrant colors.</td>\n",
    "</tr>\n",
    "<td>Frame # 028</td>\n",
    "<td><img src=\"./output/q1_1_render/028.png\"></td>\n",
    "<td><img src=\"./output/q1_3_1_render/028.png\"></td>\n",
    "<td>We can observe the same thing over here as well. The output with the spherical harmonic implemented is able to capture much more textual and color nuances for the golden studdings on the arm rests, legs, and the head rest of the chair along with more pronounced shadow on the green coushion due to the arm rest.</td>\n",
    "</tr>\n",
    "</table>"
   ]
  },
  {
   "cell_type": "markdown",
   "id": "fa026c95-e283-44a2-a935-211b9ac8d613",
   "metadata": {},
   "source": [
    "---"
   ]
  },
  {
   "cell_type": "markdown",
   "id": "a4f4e448-7651-48be-ad5b-616d93c897d0",
   "metadata": {},
   "source": [
    "#### 1.3.2 Training On a Harder Scene (10 Points) (Extra Credit)"
   ]
  },
  {
   "cell_type": "markdown",
   "id": "576226d0-4b07-41d2-8dba-0d9f55c32c04",
   "metadata": {},
   "source": [
    "**Baseline**\n",
    "\n",
    "The learning rates I used for each of the parameter are:\n",
    "\n",
    "* gaussians.pre_act_opacities = 0.001\n",
    "* gaussians.pre_act_scales = 0.001\n",
    "* gaussians.colours = 0.002\n",
    "* gaussians.means = 0.0001\n",
    "* Number of iterations = 1000\n",
    "\n",
    "<table border=\"1\">\n",
    "  <thead>\n",
    "    <tr>\n",
    "      <th>Mean PSNR</th>\n",
    "      <th>Mean SSIM</th>\n",
    "    </tr>\n",
    "  </thead>\n",
    "  <tbody>\n",
    "    <tr>\n",
    "      <td>18.315</td>\n",
    "      <td>0.659</td>\n",
    "    </tr>\n",
    "  </tbody>\n",
    "</table>\n",
    "\n",
    "<center><b>Baseline Final Render output</b></center>\n",
    "<center><img src='./output/q1_3_2_harder_training_final_renders.gif'></center>\n",
    "<center><b>Baseline Training Progress Output</b></center>\n",
    "<center><img src='./output/q1_3_2_harder_training_progress.gif'></center>"
   ]
  },
  {
   "cell_type": "markdown",
   "id": "f1741e48-da9c-4729-b052-3bd04d2b1f73",
   "metadata": {},
   "source": [
    "**Improved Method**\n",
    "\n",
    "The learning rates I used for each of the parameter are:\n",
    "\n",
    "* gaussians.pre_act_opacities = 0.002\n",
    "* gaussians.pre_act_scales = 0.002\n",
    "* gaussians.colours = 0.004\n",
    "* gaussians.means = 0.001\n",
    "* Number of iterations = 5000\n",
    "\n",
    "<table border=\"1\">\n",
    "  <thead>\n",
    "    <tr>\n",
    "      <th>Mean PSNR</th>\n",
    "      <th>Mean SSIM</th>\n",
    "    </tr>\n",
    "  </thead>\n",
    "  <tbody>\n",
    "    <tr>\n",
    "      <td>20.091</td>\n",
    "      <td>0.783</td>\n",
    "    </tr>\n",
    "  </tbody>\n",
    "</table>\n",
    "\n",
    "<center><b>Improved Method Final Render output</b></center>\n",
    "<center><img src='./output/q1_3_2_harder_training_final_renders_ft.gif'></center>\n",
    "<center><b>Improved Method Training Progress Output</b></center>\n",
    "<center><img src='./output/q1_3_2_harder_training_progress_ft.gif'></center>"
   ]
  },
  {
   "cell_type": "markdown",
   "id": "3503bc80-5d54-4318-b406-d35ea4df7cf4",
   "metadata": {},
   "source": [
    "---"
   ]
  },
  {
   "cell_type": "code",
   "execution_count": null,
   "id": "2cbea15a-4c57-472b-8215-d59848eca4a3",
   "metadata": {},
   "outputs": [],
   "source": []
  }
 ],
 "metadata": {
  "kernelspec": {
   "display_name": "Python 3 (ipykernel)",
   "language": "python",
   "name": "python3"
  },
  "language_info": {
   "codemirror_mode": {
    "name": "ipython",
    "version": 3
   },
   "file_extension": ".py",
   "mimetype": "text/x-python",
   "name": "python",
   "nbconvert_exporter": "python",
   "pygments_lexer": "ipython3",
   "version": "3.11.7"
  }
 },
 "nbformat": 4,
 "nbformat_minor": 5
}
