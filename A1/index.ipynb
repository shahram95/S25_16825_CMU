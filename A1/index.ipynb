{
 "cells": [
  {
   "cell_type": "markdown",
   "id": "ebb39bda-a85b-4423-9017-cfac1fb87b7a",
   "metadata": {},
   "source": [
    "# Assignment 1: Rendering Basics with PyTorch3D (Total: 100 Points + 10 Bonus)\n",
    "\n",
    "#### Submitted by: Shahram Najam Syed\n",
    "#### Andrew-ID: snsyed\n",
    "#### Date: 27th January, 2025"
   ]
  },
  {
   "cell_type": "markdown",
   "id": "0ca54213-c4dd-4e71-a666-bb1d25f9479b",
   "metadata": {},
   "source": [
    "## Practicing with Cameras"
   ]
  },
  {
   "cell_type": "markdown",
   "id": "96296f6c-22c7-4b9d-8c7c-3773a0b45976",
   "metadata": {},
   "source": [
    "### 1.1. 360-degree Renders (5 points)"
   ]
  },
  {
   "cell_type": "markdown",
   "id": "9d6315af-07f4-4d81-a116-6d0126c78b64",
   "metadata": {},
   "source": [
    "![image info](./output_loop/q1_1.gif)"
   ]
  },
  {
   "cell_type": "markdown",
   "id": "ec7c6e27-8dee-48bb-b142-30b8a41be423",
   "metadata": {},
   "source": [
    "### 1.2 Re-creating the Dolly Zoom (10 points)"
   ]
  },
  {
   "cell_type": "markdown",
   "id": "9bb0b11b-f17c-4421-b8b0-57aee3b6aa50",
   "metadata": {},
   "source": [
    "![image info](./output_loop/q1_2.gif)"
   ]
  },
  {
   "cell_type": "markdown",
   "id": "eaf16b29-22bc-41bf-a958-0ddaff7bd9e2",
   "metadata": {},
   "source": [
    "## 2. Practicing with Meshes"
   ]
  },
  {
   "cell_type": "markdown",
   "id": "ef62afdb-c2ae-47c1-8d60-23c6efae25b7",
   "metadata": {},
   "source": [
    "### 2.1 Constructing a Tetrahedron (5 points)"
   ]
  },
  {
   "cell_type": "markdown",
   "id": "6c15467f-55e6-425f-bd75-60f87b27433e",
   "metadata": {},
   "source": [
    "For the tetrahedron:\n",
    "\n",
    "* 4 vertices (representing the four corners of the tetrahedron)\n",
    "* 4 faces (each face is a triangle)\n",
    "\n",
    "![image info](./output_loop/q2_1.gif)"
   ]
  },
  {
   "cell_type": "markdown",
   "id": "c58b6bce-44af-4ea4-9dcd-a6b47f4200ac",
   "metadata": {},
   "source": [
    "### 2.2 Constructing a Cube (5 points)"
   ]
  },
  {
   "cell_type": "markdown",
   "id": "88f89347-0ca3-43ea-bce5-0b5a1c948130",
   "metadata": {},
   "source": [
    "For the cube:\n",
    "\n",
    "* 8 vertices (representing the eight corners of the cube)\n",
    "* 12 faces (triangles)\n",
    "\n",
    "![image info](./output_loop/q2_2.gif)"
   ]
  },
  {
   "cell_type": "markdown",
   "id": "8ba71b53-1c9f-465b-99da-debec7e142af",
   "metadata": {},
   "source": [
    "## 3. Re-texturing a mesh (10 points)"
   ]
  },
  {
   "cell_type": "markdown",
   "id": "d0685e39-8e7e-4d97-93bb-a358d2bbb2d9",
   "metadata": {},
   "source": [
    "For the mesh re-texturing, I chose to create a gradient from:\n",
    "* **blue (color1 = [0.0, 0.0, 1.0])** at the front of the cow\n",
    "* **red (color2 = [1.0, 0.0, 0.0])** at the back. \n",
    "\n",
    "![image info](./output_loop/q3.gif)"
   ]
  },
  {
   "cell_type": "markdown",
   "id": "1407fc6f-a6ac-4c4d-b0bf-49d47794b152",
   "metadata": {},
   "source": [
    "## 4. Camera Transformations (10 points)"
   ]
  },
  {
   "cell_type": "markdown",
   "id": "208f7572-96e2-4522-b086-6739a621b8bd",
   "metadata": {},
   "source": [
    "* **Case#1: 90-degree rotation around z-axis; No translation** "
   ]
  },
  {
   "cell_type": "markdown",
   "id": "a0bd1800-64ae-4f06-8183-84d68993abee",
   "metadata": {},
   "source": [
    "![image info](./output/q4_1.jpg) "
   ]
  },
  {
   "cell_type": "markdown",
   "id": "ff91ef31-6d40-4bb2-88ad-95186fd7b6cf",
   "metadata": {},
   "source": [
    "* **Case#2: No rotation; [0,0,2] translation** "
   ]
  },
  {
   "cell_type": "markdown",
   "id": "8d44dbd4-09d7-4252-bb06-117cf0d9d76b",
   "metadata": {},
   "source": [
    "![image info](./output/q4_2.jpg) "
   ]
  },
  {
   "cell_type": "markdown",
   "id": "80e77ba1-58ae-4472-8f7d-0c8cfdb615ba",
   "metadata": {},
   "source": [
    "* **Case#3: No rotation; [0.5, -0.5, -0.05] Translation** "
   ]
  },
  {
   "cell_type": "markdown",
   "id": "f2e8143d-6767-48d8-92f7-cc48dd2a3c83",
   "metadata": {},
   "source": [
    "![image info](./output/q4_3.jpg) "
   ]
  },
  {
   "cell_type": "markdown",
   "id": "79e69f0f-dba6-45b3-bf32-1fb0a615f723",
   "metadata": {},
   "source": [
    "* **Case#4: 90-degree rotation around y-axis; [3, 0, 3]** "
   ]
  },
  {
   "cell_type": "markdown",
   "id": "d3a951dc-6a74-46b9-8465-d48bf7e54d2a",
   "metadata": {},
   "source": [
    "![image info](./output/q4_4.jpg)"
   ]
  },
  {
   "cell_type": "markdown",
   "id": "00e80d4b-6296-4cdd-b17c-680c91e122be",
   "metadata": {},
   "source": [
    "## 5. Rendering Generic 3D Representations"
   ]
  },
  {
   "cell_type": "markdown",
   "id": "116b3ebd-4eb0-4c6e-8acd-39556d4ffee1",
   "metadata": {},
   "source": [
    "### 5.1 Rendering Point Clouds from RGB-D Images (10 points)"
   ]
  },
  {
   "cell_type": "markdown",
   "id": "5b5352f8-60e9-4e34-b062-6d5713eca0e0",
   "metadata": {},
   "source": [
    "![image info](./output_loop/q5_1_1.gif) ![image info](./output_loop/q5_1_2.gif) ![image info](./output_loop/q5_1_3.gif)"
   ]
  },
  {
   "cell_type": "markdown",
   "id": "ec63a19c-63c6-4760-99e3-21f0110b5bfd",
   "metadata": {},
   "source": [
    "### 5.2 Parametric Functions (10 + 5 points)"
   ]
  },
  {
   "cell_type": "markdown",
   "id": "d377899b-e3f2-412e-b584-decbf966e7fb",
   "metadata": {},
   "source": [
    "* **Torus**"
   ]
  },
  {
   "cell_type": "markdown",
   "id": "c006a0c8-3493-4893-8250-e1056a84bb7d",
   "metadata": {},
   "source": [
    "![image info](./output_loop/q5_2_1.gif) "
   ]
  },
  {
   "cell_type": "markdown",
   "id": "d2ca35a0-257e-483d-9fc8-d7b2f975a9c2",
   "metadata": {},
   "source": [
    "* **Saddle**"
   ]
  },
  {
   "cell_type": "markdown",
   "id": "45866545-b9bf-491e-a8cb-73da6d6cc231",
   "metadata": {},
   "source": [
    "![image info](./output_loop/q5_2_2.gif)"
   ]
  },
  {
   "cell_type": "markdown",
   "id": "353ede73-551b-4e5a-b8f0-39e4ff5e4357",
   "metadata": {},
   "source": [
    "### 5.3 Implicit Surfaces (15 + 5 points)"
   ]
  },
  {
   "cell_type": "markdown",
   "id": "14db6fbb-d9a7-4c46-8f70-dd7afd2aa22c",
   "metadata": {},
   "source": [
    "* **Torus**"
   ]
  },
  {
   "cell_type": "markdown",
   "id": "6e32d07c-ae31-44a3-bc98-75a7a27c0206",
   "metadata": {},
   "source": [
    "![image info](./output_loop/q5_3_1.gif)"
   ]
  },
  {
   "cell_type": "markdown",
   "id": "da5c04f3-04b6-48f2-ac46-640dadfae247",
   "metadata": {},
   "source": [
    "* **Cylinder**"
   ]
  },
  {
   "cell_type": "markdown",
   "id": "1d0a8e94-1a86-44a9-9b68-4e988cdb98ae",
   "metadata": {},
   "source": [
    "![image info](./output_loop/q5_3_2.gif)"
   ]
  },
  {
   "cell_type": "markdown",
   "id": "a6dfeec0-4896-4f72-9873-8308dcaa0e00",
   "metadata": {},
   "source": [
    "* **Mesh Rendering Technical Analysis:** The efficiency of mesh rendering heavily relies on optimized triangle processing pipelines, as detailed in Akenine-Möller, Haines, and Hoffman's \"Real-Time Rendering\" (4th Edition, 2018). Modern GPU architectures are specifically designed for triangle mesh processing, implementing techniques like:\n",
    "\n",
    "    * Hardware-accelerated vertex processing\n",
    "    * Early depth testing and hierarchical Z-buffering\n",
    "    * Triangle setup and rasterization optimization\n",
    "      \n",
    "\n",
    "* **Memory Architecture:** The memory efficiency of mesh representations benefits from vertex sharing and index buffers, reducing redundant data storage. For a detailed analysis of mesh memory layouts and optimization techniques, refer to Pharr, Jakob, and Humphreys' \"Physically Based Rendering\" (3rd Edition, 2016).\n",
    "\n",
    "* **Point Cloud Technical Considerations:** Point cloud rendering faces unique challenges in achieving surface continuity and efficient rendering. Rusu and Cousins' work in \"3D is here: Point Cloud Library\" (IEEE International Conference on Robotics and Automation, 2011) provides insights into point cloud processing pipelines and their computational requirements.\n",
    "\n",
    "* **Computational Complexity Analysis:** The relative performance characteristics can be understood through the lens of computational geometry. As detailed in \"Computational Geometry: Algorithms and Applications\" by de Berg et al. (3rd Edition, 2008), the fundamental operations have different complexity bounds:\n",
    "    * Mesh Operations:\n",
    "    * Vertex processing: O(V)\n",
    "    * Face rendering: O(F)    \n",
    "    * Normal computation: O(F)\n",
    "\n",
    "    * Point Cloud Operations:\n",
    "    * Point rendering: O(N)\n",
    "    * Normal estimation: O(k × N) for k-nearest neighbors\n",
    "    * Surface reconstruction: O(N log N) to O(N²) depending on method\n",
    "\n",
    "* **Memory Bandwidth Considerations:** The impact of memory access patterns on rendering performance is significant, as explored in \"High Performance Graphics\" research. Triangle meshes benefit from spatial coherence and cache-friendly access patterns, while point clouds often require more complex memory traversal patterns."
   ]
  },
  {
   "cell_type": "markdown",
   "id": "33244353-1c47-47ab-8c62-18ee0e8b4783",
   "metadata": {},
   "source": [
    "## 6. Do Something Fun (10 points)"
   ]
  },
  {
   "cell_type": "markdown",
   "id": "af812c77-9c16-4dec-9e1d-805c39d9fe2b",
   "metadata": {},
   "source": [
    "* **Camera Animation Sequence:**\n",
    "    * Programmed interior orbit at fixed height (-2.0) and distance (2.0)\n",
    "    * Created smooth transition sequence with 90 frames of coordinated distance and height changes\n",
    "    * Implemented exterior orbit at 30.0 distance and 40° elevation\n",
    "\n",
    "\n",
    "* **Dynamic Lighting Design:**\n",
    "    * Interior lights: Positioned relative to camera height with warm color tones [1.0, 0.9, 0.8]\n",
    "    * Transition lighting: Gradually shifts color and position based on camera movement\n",
    "    * Exterior lights: Fixed overhead position [0, 5.0, -5.0] with neutral white lighting\n",
    "\n",
    "\n",
    "* **Scene Environment Control:**\n",
    "    * Set custom background color [0.1, 0.1, 0.2] for atmospheric effect\n",
    "    * Implemented background masking for clean model integration\n",
    "    * Controlled frame rate at 20 FPS for smooth animation\n",
    "\n",
    "\n",
    "* **Texture Integration:**\n",
    "    * Added support for diffuse map loading and processing\n",
    "    * Handled multiple texture formats (RGB, RGBA, grayscale)\n",
    "    * Implemented texture normalization for consistent rendering"
   ]
  },
  {
   "cell_type": "markdown",
   "id": "3a7ccc74-e4f0-47a4-8d07-7f9aafedbd1b",
   "metadata": {},
   "source": [
    "![image info](./output_loop/q6.gif)"
   ]
  },
  {
   "cell_type": "markdown",
   "id": "38470125-2e81-419b-88d9-894da3dee7b9",
   "metadata": {},
   "source": [
    "## (Extra Credit) 7. Sampling Points on Meshes (10 points)"
   ]
  },
  {
   "cell_type": "markdown",
   "id": "c6fe6d01-6b6f-45a8-b439-e5922b6b8259",
   "metadata": {},
   "source": [
    "![image info](./output_loop/q7_comparison.gif)"
   ]
  }
 ],
 "metadata": {
  "kernelspec": {
   "display_name": "Python 3 (ipykernel)",
   "language": "python",
   "name": "python3"
  },
  "language_info": {
   "codemirror_mode": {
    "name": "ipython",
    "version": 3
   },
   "file_extension": ".py",
   "mimetype": "text/x-python",
   "name": "python",
   "nbconvert_exporter": "python",
   "pygments_lexer": "ipython3",
   "version": "3.10.16"
  }
 },
 "nbformat": 4,
 "nbformat_minor": 5
}
