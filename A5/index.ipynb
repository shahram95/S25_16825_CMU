{
 "cells": [
  {
   "cell_type": "markdown",
   "id": "ebb39bda-a85b-4423-9017-cfac1fb87b7a",
   "metadata": {},
   "source": [
    "# Assignment 5: Point cloud processing\n",
    "\n",
    "#### Submitted by: Shahram Najam Syed\n",
    "#### Andrew-ID: snsyed\n",
    "#### Date: 9th April, 2025\n",
    "#### Late days used: 0"
   ]
  },
  {
   "cell_type": "markdown",
   "id": "343da016-db59-494d-b6d5-fea469b0239e",
   "metadata": {},
   "source": [
    "---"
   ]
  },
  {
   "cell_type": "markdown",
   "id": "0ca54213-c4dd-4e71-a666-bb1d25f9479b",
   "metadata": {},
   "source": [
    "## Q1. Classification Model (40 points)"
   ]
  },
  {
   "cell_type": "markdown",
   "id": "f82589be-6c43-4f7f-82da-5d25d46fa561",
   "metadata": {},
   "source": [
    "**Best Accuracy: 97.98%**"
   ]
  },
  {
   "cell_type": "markdown",
   "id": "f3da115a-2852-41a7-9771-23a3ba156c83",
   "metadata": {},
   "source": [
    "### Success Cases\n",
    "* **Chair**\n",
    "<table>\n",
    "<tr>\n",
    "<th>Visualization</th>\n",
    "<th>Ground truth class</th>\n",
    "<th>Prediction class</th>\n",
    "</tr>\n",
    "<tr>\n",
    "<td><img src=\"./output/cls/success_chair_0.gif\"></td>\n",
    "<td>Chair</td>\n",
    "<td>Chair</td>\n",
    "</tr>\n",
    "<tr>\n",
    "<td><img src=\"./output/cls/success_chair_1.gif\"></td>\n",
    "<td>Chair</td>\n",
    "<td>Chair</td>\n",
    "</tr>\n",
    "<tr>\n",
    "<td><img src=\"./output/cls/success_chair_2.gif\"></td>\n",
    "<td>Chair</td>\n",
    "<td>Chair</td>\n",
    "</tr>\n",
    "<tr>\n",
    "<td><img src=\"./output/cls/success_chair_3.gif\"></td>\n",
    "<td>Chair</td>\n",
    "<td>Chair</td>\n",
    "</tr>\n",
    "<tr>\n",
    "<td><img src=\"./output/cls/success_chair_4.gif\"></td>\n",
    "<td>Chair</td>\n",
    "<td>Chair</td>\n",
    "</tr>\n",
    "\n",
    "* **Lamp**\n",
    "<table>\n",
    "<tr>\n",
    "<th>Visualization</th>\n",
    "<th>Ground truth class</th>\n",
    "<th>Prediction class</th>\n",
    "</tr>\n",
    "<tr>\n",
    "<td><img src=\"./output/cls/success_lamp_0.gif\"></td>\n",
    "<td>Lamp</td>\n",
    "<td>Lamp</td>\n",
    "</tr>\n",
    "<tr>\n",
    "<td><img src=\"./output/cls/success_lamp_1.gif\"></td>\n",
    "<td>Lamp</td>\n",
    "<td>Lamp</td>\n",
    "</tr>\n",
    "<tr>\n",
    "<td><img src=\"./output/cls/success_lamp_2.gif\"></td>\n",
    "<td>Lamp</td>\n",
    "<td>Lamp</td>\n",
    "</tr>\n",
    "<tr>\n",
    "<td><img src=\"./output/cls/success_lamp_3.gif\"></td>\n",
    "<td>Lamp</td>\n",
    "<td>Lamp</td>\n",
    "</tr>\n",
    "<tr>\n",
    "<td><img src=\"./output/cls/success_lamp_4.gif\"></td>\n",
    "<td>Lamp</td>\n",
    "<td>Lamp</td>\n",
    "</tr>\n",
    "    \n",
    "* **Vase**\n",
    "<table>\n",
    "<tr>\n",
    "<th>Visualization</th>\n",
    "<th>Ground truth class</th>\n",
    "<th>Prediction class</th>\n",
    "</tr>\n",
    "<tr>\n",
    "<td><img src=\"./output/cls/success_vase_0.gif\"></td>\n",
    "<td>Vase</td>\n",
    "<td>Vase</td>\n",
    "</tr>\n",
    "<tr>\n",
    "<td><img src=\"./output/cls/success_vase_1.gif\"></td>\n",
    "<td>Vase</td>\n",
    "<td>Vase</td>\n",
    "</tr>\n",
    "<tr>\n",
    "<td><img src=\"./output/cls/success_vase_2.gif\"></td>\n",
    "<td>Vase</td>\n",
    "<td>Vase</td>\n",
    "</tr>\n",
    "<tr>\n",
    "<td><img src=\"./output/cls/success_vase_3.gif\"></td>\n",
    "<td>Vase</td>\n",
    "<td>Vase</td>\n",
    "</tr>\n",
    "<tr>\n",
    "<td><img src=\"./output/cls/success_vase_4.gif\"></td>\n",
    "<td>Vase</td>\n",
    "<td>Vase</td>\n",
    "</tr>\n",
    "</table>"
   ]
  },
  {
   "cell_type": "markdown",
   "id": "c0353ac3-e282-441a-8ca7-09a24adae875",
   "metadata": {},
   "source": [
    "### Failure Cases\n",
    "* **Chair**\n",
    "<table>\n",
    "<tr>\n",
    "<th>Visualization</th>\n",
    "<th>Ground truth class</th>\n",
    "<th>Prediction class</th>\n",
    "</tr>\n",
    "<tr>\n",
    "<td><img src=\"./output/cls/failure_chair_0.gif\"></td>\n",
    "<td>Chair</td>\n",
    "<td>Lamp</td>\n",
    "</tr>\n",
    "</table>\n",
    "\n",
    "* **Lamp**\n",
    "<table>\n",
    "<tr>\n",
    "<th>Visualization</th>\n",
    "<th>Ground truth class</th>\n",
    "<th>Prediction class</th>\n",
    "</tr>\n",
    "<tr>\n",
    "<td><img src=\"./output/cls/failure_lamp_0.gif\"></td>\n",
    "<td>Lamp</td>\n",
    "<td>Vase</td>\n",
    "</tr>\n",
    "<tr>\n",
    "<td><img src=\"./output/cls/failure_lamp_1.gif\"></td>\n",
    "<td>Lamp</td>\n",
    "<td>Vase</td>\n",
    "</tr>\n",
    "<tr>\n",
    "<td><img src=\"./output/cls/failure_lamp_2.gif\"></td>\n",
    "<td>Lamp</td>\n",
    "<td>Vase</td>\n",
    "</tr>\n",
    "<tr>\n",
    "<td><img src=\"./output/cls/failure_lamp_3.gif\"></td>\n",
    "<td>Lamp</td>\n",
    "<td>Vase</td>\n",
    "</tr>\n",
    "<tr>\n",
    "<td><img src=\"./output/cls/failure_lamp_4.gif\"></td>\n",
    "<td>Lamp</td>\n",
    "<td>Vase</td>\n",
    "</tr>\n",
    "    \n",
    "* **Vase**\n",
    "<table>\n",
    "<tr>\n",
    "<th>Visualization</th>\n",
    "<th>Ground truth class</th>\n",
    "<th>Prediction class</th>\n",
    "</tr>\n",
    "<tr>\n",
    "<td><img src=\"./output/cls/failure_vase_0.gif\"></td>\n",
    "<td>Vase</td>\n",
    "<td>Lamp</td>\n",
    "</tr>\n",
    "<tr>\n",
    "<td><img src=\"./output/cls/failure_vase_1.gif\"></td>\n",
    "<td>Vase</td>\n",
    "<td>Lamp</td>\n",
    "</tr>\n",
    "<tr>\n",
    "<td><img src=\"./output/cls/failure_vase_2.gif\"></td>\n",
    "<td>Vase</td>\n",
    "<td>Lamp</td>\n",
    "</tr>\n",
    "<tr>\n",
    "<td><img src=\"./output/cls/failure_vase_3.gif\"></td>\n",
    "<td>Vase</td>\n",
    "<td>Lamp</td>\n",
    "</tr>\n",
    "<tr>\n",
    "<td><img src=\"./output/cls/failure_vase_4.gif\"></td>\n",
    "<td>Vase</td>\n",
    "<td>Lamp</td>\n",
    "</tr>\n",
    "</table>"
   ]
  },
  {
   "cell_type": "markdown",
   "id": "5de9fbc0-bd78-4465-b4c6-1d36943fdef2",
   "metadata": {},
   "source": [
    "---"
   ]
  },
  {
   "cell_type": "markdown",
   "id": "c473f745-835f-4790-b569-7c2a1e3cc7ce",
   "metadata": {},
   "source": [
    "## Q2. Segmentation Model (40 points)"
   ]
  },
  {
   "cell_type": "markdown",
   "id": "6de43cca-3e01-4745-9f00-0cb46d0ff0c0",
   "metadata": {},
   "source": [
    "**Best Accuracy: 90.30%**"
   ]
  },
  {
   "cell_type": "markdown",
   "id": "9e814aa4-b77b-4ba3-8b86-c0c4b8fc42c0",
   "metadata": {},
   "source": [
    "### Success Cases\n",
    "<table>\n",
    "<tr>\n",
    "<th>Ground truth segmentation</th>\n",
    "<th>Predicted segmentation</th>\n",
    "<th>Accuracy</th>\n",
    "</tr>\n",
    "<tr>\n",
    "<td><img src=\"./output/seg/gt_good_1_acc_0.99.gif\"></td>\n",
    "<td><img src=\"./output/seg/pred_good_1_acc_0.99.gif\"></td>\n",
    "<td>99%</td>\n",
    "</tr>\n",
    "<tr>\n",
    "<td><img src=\"./output/seg/gt_good_39_acc_0.99.gif\"></td>\n",
    "<td><img src=\"./output/seg/pred_good_39_acc_0.99.gif\"></td>\n",
    "<td>99%</td>\n",
    "</tr>\n",
    "<tr>\n",
    "<td><img src=\"./output/seg/gt_good_48_acc_0.99.gif\"></td>\n",
    "<td><img src=\"./output/seg/pred_good_48_acc_0.99.gif\"></td>\n",
    "<td>99%</td>\n",
    "</tr>\n",
    "<tr>\n",
    "<td><img src=\"./output/seg/gt_good_56_acc_0.90.gif\"></td>\n",
    "<td><img src=\"./output/seg/pred_good_56_acc_0.9.gif\"></td>\n",
    "<td>99%</td>\n",
    "</tr>\n",
    "<tr>\n",
    "<td><img src=\"./output/seg/gt_good_97_acc_0.87.gif\"></td>\n",
    "<td><img src=\"./output/seg/pred_good_97_acc_0.87.gif\"></td>\n",
    "<td>99%</td>\n",
    "</tr>\n",
    "<tr>\n",
    "<td><img src=\"./output/seg/gt_good_98_acc_0.88.gif\"></td>\n",
    "<td><img src=\"./output/seg/pred_good_98_acc_0.88.gif\"></td>\n",
    "<td>99%</td>\n",
    "</tr>\n",
    "</table>"
   ]
  },
  {
   "cell_type": "markdown",
   "id": "a7d044cf-ed52-40d0-aa7d-27134c2a1084",
   "metadata": {},
   "source": [
    "---"
   ]
  },
  {
   "cell_type": "markdown",
   "id": "ee5123f6-841b-4f95-8cac-76c4812992d0",
   "metadata": {},
   "source": [
    "## Q3. Robustness Analysis (20 points)"
   ]
  },
  {
   "cell_type": "markdown",
   "id": "c6d18adc-5270-4a32-bb92-110875ee3348",
   "metadata": {},
   "source": []
  },
  {
   "cell_type": "markdown",
   "id": "f4849081-7547-4170-8860-11046bd6a2c8",
   "metadata": {},
   "source": [
    "---"
   ]
  },
  {
   "cell_type": "markdown",
   "id": "2aaeac9b-0234-4be1-8a8c-5ef1fb2735c0",
   "metadata": {},
   "source": [
    "## Q4. Bonus Question - Locality (20 points)"
   ]
  },
  {
   "cell_type": "markdown",
   "id": "dc38cdbc-10bd-49f1-ab24-0445518178f3",
   "metadata": {},
   "source": []
  },
  {
   "cell_type": "markdown",
   "id": "30dd5898-4c95-4829-afa4-f7669926dd1f",
   "metadata": {},
   "source": [
    "---"
   ]
  }
 ],
 "metadata": {
  "kernelspec": {
   "display_name": "Python 3 (ipykernel)",
   "language": "python",
   "name": "python3"
  },
  "language_info": {
   "codemirror_mode": {
    "name": "ipython",
    "version": 3
   },
   "file_extension": ".py",
   "mimetype": "text/x-python",
   "name": "python",
   "nbconvert_exporter": "python",
   "pygments_lexer": "ipython3",
   "version": "3.11.7"
  }
 },
 "nbformat": 4,
 "nbformat_minor": 5
}
