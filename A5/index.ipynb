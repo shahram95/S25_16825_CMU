{
 "cells": [
  {
   "cell_type": "markdown",
   "id": "ebb39bda-a85b-4423-9017-cfac1fb87b7a",
   "metadata": {},
   "source": [
    "# Assignment 5: Point cloud processing\n",
    "\n",
    "#### Submitted by: Shahram Najam Syed\n",
    "#### Andrew-ID: snsyed\n",
    "#### Date: 9th April, 2025\n",
    "#### Late days used: 0"
   ]
  },
  {
   "cell_type": "markdown",
   "id": "343da016-db59-494d-b6d5-fea469b0239e",
   "metadata": {},
   "source": [
    "---"
   ]
  },
  {
   "cell_type": "markdown",
   "id": "0ca54213-c4dd-4e71-a666-bb1d25f9479b",
   "metadata": {},
   "source": [
    "## Q1. Classification Model (40 points)"
   ]
  },
  {
   "cell_type": "markdown",
   "id": "f82589be-6c43-4f7f-82da-5d25d46fa561",
   "metadata": {},
   "source": [
    "**Best Accuracy: 97.98%**"
   ]
  },
  {
   "cell_type": "markdown",
   "id": "5de9fbc0-bd78-4465-b4c6-1d36943fdef2",
   "metadata": {},
   "source": [
    "---"
   ]
  },
  {
   "cell_type": "markdown",
   "id": "c473f745-835f-4790-b569-7c2a1e3cc7ce",
   "metadata": {},
   "source": [
    "## Q2. Segmentation Model (40 points)"
   ]
  },
  {
   "cell_type": "markdown",
   "id": "6de43cca-3e01-4745-9f00-0cb46d0ff0c0",
   "metadata": {},
   "source": [
    "**Best Accuracy: 90.30%**"
   ]
  },
  {
   "cell_type": "markdown",
   "id": "a7d044cf-ed52-40d0-aa7d-27134c2a1084",
   "metadata": {},
   "source": [
    "---"
   ]
  },
  {
   "cell_type": "markdown",
   "id": "ee5123f6-841b-4f95-8cac-76c4812992d0",
   "metadata": {},
   "source": [
    "## Q3. Robustness Analysis (20 points)"
   ]
  },
  {
   "cell_type": "markdown",
   "id": "c6d18adc-5270-4a32-bb92-110875ee3348",
   "metadata": {},
   "source": []
  },
  {
   "cell_type": "markdown",
   "id": "f4849081-7547-4170-8860-11046bd6a2c8",
   "metadata": {},
   "source": [
    "---"
   ]
  },
  {
   "cell_type": "markdown",
   "id": "2aaeac9b-0234-4be1-8a8c-5ef1fb2735c0",
   "metadata": {},
   "source": [
    "## Q4. Bonus Question - Locality (20 points)"
   ]
  },
  {
   "cell_type": "markdown",
   "id": "dc38cdbc-10bd-49f1-ab24-0445518178f3",
   "metadata": {},
   "source": []
  },
  {
   "cell_type": "markdown",
   "id": "30dd5898-4c95-4829-afa4-f7669926dd1f",
   "metadata": {},
   "source": [
    "---"
   ]
  }
 ],
 "metadata": {
  "kernelspec": {
   "display_name": "Python 3 (ipykernel)",
   "language": "python",
   "name": "python3"
  },
  "language_info": {
   "codemirror_mode": {
    "name": "ipython",
    "version": 3
   },
   "file_extension": ".py",
   "mimetype": "text/x-python",
   "name": "python",
   "nbconvert_exporter": "python",
   "pygments_lexer": "ipython3",
   "version": "3.11.7"
  }
 },
 "nbformat": 4,
 "nbformat_minor": 5
}
