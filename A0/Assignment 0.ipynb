{
 "cells": [
  {
   "cell_type": "markdown",
   "id": "bdd6f08c-9ad4-45e2-9ba1-b043ba83e341",
   "metadata": {},
   "source": [
    "# Assignment 0: Getting started with webpage submission\n",
    "\n",
    "### Submitted By: Shahram Najam Syed\n",
    "### Andrew ID: snsyed\n",
    "### Date: 21st January, 2025\n",
    "\n",
    "---"
   ]
  },
  {
   "cell_type": "markdown",
   "id": "9d92f636-2248-4e2d-b451-f6ade91fac5c",
   "metadata": {},
   "source": [
    "### Task-1: ChatGPT\n",
    "\n",
    "**For this task, play around with ChatGPT. Be creative! Now, mention the prompt and the answer given by ChatGPT in your webpage. You can even mention an interesting conversation. Some of the prompt examples include:**\n",
    "\n",
    "* **Write a song/poem/story/joke.**\n",
    "* **Some puzzle or riddle.**"
   ]
  },
  {
   "cell_type": "markdown",
   "id": "cbf1ba14-e3c7-4db2-a0a1-ef96b72e6e7a",
   "metadata": {},
   "source": [
    "**Ans:**"
   ]
  },
  {
   "cell_type": "markdown",
   "id": "8c1fa18b-48d6-4216-a54d-976a49ac9cee",
   "metadata": {},
   "source": [
    "**Prompt #1:** I am taking a course, Learning for 3D 16-825 at CMU. It is being taught by Shubham Tulsiani and  Ioannis Gkioulekas. Can you write an expressive poem about my journey into the realm of the nuanced and highly geometric world of 3D vision."
   ]
  },
  {
   "cell_type": "markdown",
   "id": "09fc870b-4d91-4449-a488-74d91bc99b75",
   "metadata": {},
   "source": [
    "**Response #1:**\n",
    "\n",
    "#### “Through the Lens of 3D Vision”\n",
    "\n",
    "In Pittsburgh’s haze, where the rivers meet,  \n",
    "A challenge awaits on a narrow street.  \n",
    "At CMU, the quest for 3D is clear,  \n",
    "Amid lectures and labs, brilliance appears.  \n",
    "\n",
    "The weather’s gray, a coder’s plight,  \n",
    "Debugging deep learning late at night.  \n",
    "Models converge, or sometimes they stray,  \n",
    "Into the fog of an endless array.  \n",
    "\n",
    "Point clouds scatter, tensors align,  \n",
    "Geometry dances in data divine.  \n",
    "With Shubham and Ioannis to guide the way,  \n",
    "We shape the world, voxel by day.  \n",
    "\n",
    "Through loss functions and gradients steep,  \n",
    "We dream of solutions and yearn for sleep.  \n",
    "But in every epoch, as struggles ignite,  \n",
    "The view of the world becomes ever bright.  \n",
    "\n",
    "So here’s to learning, in 3D array,  \n",
    "In Pittsburgh’s gray, come what may.  \n",
    "For through the fog, the vision is grand,  \n",
    "Unveiling the depth of a digital land.\n",
    "\n",
    "---"
   ]
  },
  {
   "cell_type": "markdown",
   "id": "e47aa5d3-552e-43ef-8670-11f692170983",
   "metadata": {},
   "source": [
    "**Prompt #2:** How about a funny joke about the Professors of the course?"
   ]
  },
  {
   "cell_type": "markdown",
   "id": "daaca7af-8c7e-4f96-b6c1-a4e8a1c32d5e",
   "metadata": {},
   "source": [
    "**Response #2:**\n",
    "\n",
    "**Q:** Why did the student bring Shubham and Ioannis into their 3D reconstruction project?\n",
    "\n",
    "**A:** Because every time the model broke, Ioannis said, “It’s all about *reflecting* on your loss,” and Shubham added, “Don’t worry, we’ll *project* a solution!”\n",
    "\n",
    "---"
   ]
  },
  {
   "cell_type": "markdown",
   "id": "58592f1b-eae7-43ed-b84b-32e809521f9a",
   "metadata": {},
   "source": [
    "### Task 2. 3D shape images\n",
    "\n",
    "**To get you used to uploading images on the webpage, search for a image with an interesting 3D shape. Please mention the source as well.**"
   ]
  },
  {
   "cell_type": "markdown",
   "id": "37e43129-8bd9-41ec-9b9f-d565245bf12e",
   "metadata": {},
   "source": [
    "**Ans:** The Gömböc is a fascinating mathematical discovery—a homogeneous, convex 3D object with a unique ability to self-right to a stable equilibrium point. It has exactly one stable and one unstable equilibrium point, demonstrating the interplay of geometry and physics.\n",
    "\n",
    "#### Images:\n",
    "\n",
    "1. **Gömböc Shape**  \n",
    "   ![Gömböc](1.jpg)  \n",
    "   *Source: By Domokos - Transferred from en.wikipedia to Commons., Public Domain, [Link](https://commons.wikimedia.org/w/index.php?curid=2135700)*  \n",
    "\n",
    "2. **Quadcopter with Gömböc Frame**  \n",
    "   ![Quadcopter with Gömböc Frame](2.png)  \n",
    "   *Source: Proceedings of the ASME 2015 International Design Engineering Technical Conferences & Computers and Information in Engineering Conference (IDETC/CIE 2015), Paper DETC2015-47864*\n",
    "\n",
    "---"
   ]
  },
  {
   "cell_type": "markdown",
   "id": "59c0380f-1aee-4cf6-9928-c812c39b2b38",
   "metadata": {},
   "source": [
    "### Task 3. Funny GIFs\n",
    "\n",
    "**For this task, search around the web for the funniest GIF. Please mention the source as well.**"
   ]
  },
  {
   "cell_type": "markdown",
   "id": "4685227e-6ee5-4e21-8624-4be04b7b1887",
   "metadata": {},
   "source": [
    "My reaction when Prof. Ioannis Gkioulekas talks about capturing depth maps from surface normals.\n",
    "\n",
    "![Funny GIF](3.gif)  \n",
    "\n",
    "*Source: [Giphy - Funny Dog](https://giphy.com/gifs/moodman-funny-dog-8lgqAbycBjosxjfi9k)*"
   ]
  }
 ],
 "metadata": {
  "kernelspec": {
   "display_name": "Python 3 (ipykernel)",
   "language": "python",
   "name": "python3"
  },
  "language_info": {
   "codemirror_mode": {
    "name": "ipython",
    "version": 3
   },
   "file_extension": ".py",
   "mimetype": "text/x-python",
   "name": "python",
   "nbconvert_exporter": "python",
   "pygments_lexer": "ipython3",
   "version": "3.11.7"
  }
 },
 "nbformat": 4,
 "nbformat_minor": 5
}
